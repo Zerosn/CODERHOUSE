{
  "nbformat": 4,
  "nbformat_minor": 0,
  "metadata": {
    "colab": {
      "name": "DESAFIO 2_coder.ipynb",
      "provenance": [],
      "collapsed_sections": [],
      "authorship_tag": "ABX9TyPx5Kmzcq+u7VZi7bTzhBKA",
      "include_colab_link": true
    },
    "kernelspec": {
      "name": "python3",
      "display_name": "Python 3"
    },
    "language_info": {
      "name": "python"
    }
  },
  "cells": [
    {
      "cell_type": "markdown",
      "metadata": {
        "id": "view-in-github",
        "colab_type": "text"
      },
      "source": [
        "<a href=\"https://colab.research.google.com/github/Zerosn/CODERHOUSE/blob/main/DESAFIO_2_coder.ipynb\" target=\"_parent\"><img src=\"https://colab.research.google.com/assets/colab-badge.svg\" alt=\"Open In Colab\"/></a>"
      ]
    },
    {
      "cell_type": "code",
      "metadata": {
        "colab": {
          "base_uri": "https://localhost:8080/"
        },
        "id": "l3FhIAr8frG1",
        "outputId": "bfe0473d-b625-4687-b7b6-a1023d3781c6"
      },
      "source": [
        "import numpy as np\n",
        "Vector_aleatorio = np.random.randn(100)\n",
        "print(Vector_aleatorio.mean())\n",
        "print(Vector_aleatorio.sum())\n",
        "\n",
        "\n"
      ],
      "execution_count": 12,
      "outputs": [
        {
          "output_type": "stream",
          "name": "stdout",
          "text": [
            "-0.014822102261939975\n",
            "-1.4822102261939976\n"
          ]
        }
      ]
    },
    {
      "cell_type": "code",
      "metadata": {
        "colab": {
          "base_uri": "https://localhost:8080/"
        },
        "id": "BW7RudUvfxaG",
        "outputId": "83b9c6be-9167-48e3-a64a-6414d1440b83"
      },
      "source": [
        "Vector_aleatorio_int = np.random.randint(low = 25, high=100,size=(100))\n",
        "print(Vector_aleatorio_int.mean())\n",
        "print(Vector_aleatorio_int.sum())\n",
        "\n"
      ],
      "execution_count": null,
      "outputs": [
        {
          "output_type": "stream",
          "name": "stdout",
          "text": [
            "61.87\n",
            "6187\n"
          ]
        }
      ]
    },
    {
      "cell_type": "code",
      "metadata": {
        "id": "v4wYSJ65fyp7"
      },
      "source": [
        "def suma(x_min,x_max):\n",
        "    rango=np.arange(x_min,x_max)\n",
        "    return rango.sum()\n",
        "\n",
        "def factorial(x):\n",
        "    return np.math.factorial(x)"
      ],
      "execution_count": null,
      "outputs": []
    },
    {
      "cell_type": "code",
      "metadata": {
        "colab": {
          "base_uri": "https://localhost:8080/"
        },
        "id": "ydv-m3_Of0Th",
        "outputId": "d00b1220-e044-4734-9978-6c7c31753508"
      },
      "source": [
        "suma(25,100)\n"
      ],
      "execution_count": null,
      "outputs": [
        {
          "output_type": "execute_result",
          "data": {
            "text/plain": [
              "4650"
            ]
          },
          "metadata": {},
          "execution_count": 9
        }
      ]
    },
    {
      "cell_type": "code",
      "metadata": {
        "colab": {
          "base_uri": "https://localhost:8080/"
        },
        "id": "Md1KFmjWgPmN",
        "outputId": "d5bac830-943b-4c00-8935-f778e4cb499c"
      },
      "source": [
        "factorial(25)"
      ],
      "execution_count": null,
      "outputs": [
        {
          "output_type": "execute_result",
          "data": {
            "text/plain": [
              "15511210043330985984000000"
            ]
          },
          "metadata": {},
          "execution_count": 10
        }
      ]
    },
    {
      "cell_type": "code",
      "metadata": {
        "id": "AzwKtf4igUXr"
      },
      "source": [
        "import pandas as pd\n",
        "file='https://raw.githubusercontent.com/Zerosn/CODERHOUSE/main/Salarios%20Openqube%20-%202020.02.csv'\n"
      ],
      "execution_count": 8,
      "outputs": []
    },
    {
      "cell_type": "code",
      "metadata": {
        "id": "-h3nEXsFeXas"
      },
      "source": [
        "df = pd.read_csv(file)"
      ],
      "execution_count": 9,
      "outputs": []
    },
    {
      "cell_type": "code",
      "metadata": {
        "id": "970EPLY8efgU",
        "colab": {
          "base_uri": "https://localhost:8080/"
        },
        "outputId": "85ea1eb2-f47a-464d-e73a-276cc95f67f1"
      },
      "source": [
        "df.columns"
      ],
      "execution_count": 10,
      "outputs": [
        {
          "output_type": "execute_result",
          "data": {
            "text/plain": [
              "Index(['Timestamp', 'Me identifico', 'Tengo', 'Estoy trabajando en',\n",
              "       'Dónde estás trabajando', 'Bolivia', 'Chile', 'Colombia', 'Cuba',\n",
              "       'Costa Rica', 'Ecuador', 'El Salvador', 'Guatemala', 'Honduras',\n",
              "       'México', 'Nicaragua', 'Panamá', 'Paraguay', 'Perú', 'Puerto Rico',\n",
              "       'República Dominicana', 'Uruguay', 'Venezuela', 'Años de experiencia',\n",
              "       'Años en la empresa actual', 'Años en el puesto actual',\n",
              "       '¿Gente a cargo?', 'Nivel de estudios alcanzado', 'Estado', 'Carrera',\n",
              "       'Universidad', 'Realizaste cursos de especialización',\n",
              "       '¿Contribuís a proyectos open source?', '¿Programás como hobbie?',\n",
              "       'Trabajo de', 'Plataformas', 'Lenguajes de programación',\n",
              "       'Frameworks, herramientas y librerías', 'Bases de datos',\n",
              "       'QA / Testing', 'IDEs', '¿Qué SO usás en tu laptop/PC para trabajar?',\n",
              "       '¿Y en tu celular?', '¿Tenés guardias?', 'Cuánto cobrás por guardia',\n",
              "       '¿Porcentaje, bruto o neto?', 'Tipo de contrato',\n",
              "       'Salario mensual BRUTO (en tu moneda local)',\n",
              "       'Salario mensual NETO (en tu moneda local)', 'Unnamed: 49',\n",
              "       '¿Qué tan conforme estás con tu sueldo?',\n",
              "       'Cómo creés que está tu sueldo con respecto al último semestre',\n",
              "       'Recibís algún tipo de bono', 'A qué está atado el bono',\n",
              "       '¿Tuviste ajustes por inflación en lo que va de 2020?',\n",
              "       '¿De qué % fue el ajuste total?', '¿En qué mes fue el último ajuste?',\n",
              "       '¿Sufriste o presenciaste situaciones de violencia laboral?',\n",
              "       'Orientación sexual', '¿Tenés algún tipo de discapacidad?',\n",
              "       '¿Sentís que esto te dificultó el conseguir trabajo?',\n",
              "       '¿Sos miembro de alguna comunidad IT?',\n",
              "       '¿Escuchás algún podcast de IT?',\n",
              "       '¿A qué eventos de tecnología asististe en los últimos 12 meses?',\n",
              "       'Cantidad de empleados', 'Actividad principal',\n",
              "       '¿La recomendás como un buen lugar para trabajar?',\n",
              "       '¿Cómo calificás las políticas de diversidad e inclusión?',\n",
              "       'Beneficios extra', '¿Cómo venís llevando la cuarentena?',\n",
              "       '¿Tenés hijos/as menores de edad?',\n",
              "       '¿Con cuántas personas estás conviviendo?', '¿Con quiénes convivís?',\n",
              "       '¿Tenés un espacio dedicado para el trabajo?',\n",
              "       '¿Tenés que compartir tu equipo de trabajo con alguien?',\n",
              "       '¿Qué tipo de cuarentena estás haciendo?',\n",
              "       '¿Cambió tu situación laboral a raíz de la pandemia?',\n",
              "       '¿Qué tanto sentís que te está apoyando tu empresa en esta situación?',\n",
              "       '¿Cómo se vio afectada tu empresa?',\n",
              "       '¿Instauraron algún beneficio nuevo?',\n",
              "       '¿Cuáles considerás que son las mejores empresas de IT para trabajar en este momento, en tu ciudad?'],\n",
              "      dtype='object')"
            ]
          },
          "metadata": {},
          "execution_count": 10
        }
      ]
    },
    {
      "cell_type": "code",
      "metadata": {
        "id": "POQAsX7yyVes"
      },
      "source": [
        "Sueldos= df['Salario mensual BRUTO (en tu moneda local)']\n",
        "Sueldos= np.asarray(Sueldos,dtype=np.float64)"
      ],
      "execution_count": 45,
      "outputs": []
    },
    {
      "cell_type": "code",
      "metadata": {
        "colab": {
          "base_uri": "https://localhost:8080/"
        },
        "id": "oN9o3qnPys_1",
        "outputId": "4034a42a-4a8c-4959-c458-766074c8555a"
      },
      "source": [
        "print('la media de los sueldos es $ {:.2f}'.format(Sueldos.mean()))\n",
        "print('la mediana de los sueldos es $ {:.2f}'.format(np.median(Sueldos)))"
      ],
      "execution_count": 50,
      "outputs": [
        {
          "output_type": "stream",
          "name": "stdout",
          "text": [
            "la media de los sueldos es $ 2992143846.20\n",
            "la mediana de los sueldos es $ 95000.00\n"
          ]
        }
      ]
    }
  ]
}